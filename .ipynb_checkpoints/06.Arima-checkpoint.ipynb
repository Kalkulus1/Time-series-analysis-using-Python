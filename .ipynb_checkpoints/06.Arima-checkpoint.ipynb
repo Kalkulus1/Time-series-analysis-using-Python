{
 "cells": [
  {
   "cell_type": "code",
   "execution_count": 1,
   "metadata": {},
   "outputs": [],
   "source": [
    "import numpy as np"
   ]
  },
  {
   "cell_type": "code",
   "execution_count": 2,
   "metadata": {},
   "outputs": [],
   "source": [
    "import pandas as pd"
   ]
  },
  {
   "cell_type": "code",
   "execution_count": 4,
   "metadata": {},
   "outputs": [],
   "source": [
    "import matplotlib.pylab as plt"
   ]
  },
  {
   "cell_type": "code",
   "execution_count": 5,
   "metadata": {},
   "outputs": [],
   "source": [
    "%matplotlib inline"
   ]
  },
  {
   "cell_type": "code",
   "execution_count": 7,
   "metadata": {},
   "outputs": [],
   "source": [
    "dataset=pd.read_csv(\"daily-min-temperatures.csv\")"
   ]
  },
  {
   "cell_type": "code",
   "execution_count": 8,
   "metadata": {},
   "outputs": [
    {
     "data": {
      "text/plain": [
       "<bound method NDFrame.head of             Date  Temp\n",
       "0     1981-01-01  20.7\n",
       "1     1981-01-02  17.9\n",
       "2     1981-01-03  18.8\n",
       "3     1981-01-04  14.6\n",
       "4     1981-01-05  15.8\n",
       "5     1981-01-06  15.8\n",
       "6     1981-01-07  15.8\n",
       "7     1981-01-08  17.4\n",
       "8     1981-01-09  21.8\n",
       "9     1981-01-10  20.0\n",
       "10    1981-01-11  16.2\n",
       "11    1981-01-12  13.3\n",
       "12    1981-01-13  16.7\n",
       "13    1981-01-14  21.5\n",
       "14    1981-01-15  25.0\n",
       "15    1981-01-16  20.7\n",
       "16    1981-01-17  20.6\n",
       "17    1981-01-18  24.8\n",
       "18    1981-01-19  17.7\n",
       "19    1981-01-20  15.5\n",
       "20    1981-01-21  18.2\n",
       "21    1981-01-22  12.1\n",
       "22    1981-01-23  14.4\n",
       "23    1981-01-24  16.0\n",
       "24    1981-01-25  16.5\n",
       "25    1981-01-26  18.7\n",
       "26    1981-01-27  19.4\n",
       "27    1981-01-28  17.2\n",
       "28    1981-01-29  15.5\n",
       "29    1981-01-30  15.1\n",
       "...          ...   ...\n",
       "3620  1990-12-02  13.2\n",
       "3621  1990-12-03  16.2\n",
       "3622  1990-12-04  17.3\n",
       "3623  1990-12-05  20.5\n",
       "3624  1990-12-06  20.2\n",
       "3625  1990-12-07  19.4\n",
       "3626  1990-12-08  15.5\n",
       "3627  1990-12-09  14.1\n",
       "3628  1990-12-10  11.0\n",
       "3629  1990-12-11  11.1\n",
       "3630  1990-12-12  14.0\n",
       "3631  1990-12-13  11.4\n",
       "3632  1990-12-14  12.5\n",
       "3633  1990-12-15  13.4\n",
       "3634  1990-12-16  13.6\n",
       "3635  1990-12-17  13.9\n",
       "3636  1990-12-18  17.2\n",
       "3637  1990-12-19  14.7\n",
       "3638  1990-12-20  15.4\n",
       "3639  1990-12-21  13.1\n",
       "3640  1990-12-22  13.2\n",
       "3641  1990-12-23  13.9\n",
       "3642  1990-12-24  10.0\n",
       "3643  1990-12-25  12.9\n",
       "3644  1990-12-26  14.6\n",
       "3645  1990-12-27  14.0\n",
       "3646  1990-12-28  13.6\n",
       "3647  1990-12-29  13.5\n",
       "3648  1990-12-30  15.7\n",
       "3649  1990-12-31  13.0\n",
       "\n",
       "[3650 rows x 2 columns]>"
      ]
     },
     "execution_count": 8,
     "metadata": {},
     "output_type": "execute_result"
    }
   ],
   "source": [
    "dataset.head"
   ]
  },
  {
   "cell_type": "code",
   "execution_count": 10,
   "metadata": {},
   "outputs": [],
   "source": [
    "dataset['Date']=pd.to_datetime(dataset['Date'],infer_datetime_format=True)"
   ]
  },
  {
   "cell_type": "code",
   "execution_count": 11,
   "metadata": {},
   "outputs": [
    {
     "data": {
      "text/plain": [
       "0      1981-01-01\n",
       "1      1981-01-02\n",
       "2      1981-01-03\n",
       "3      1981-01-04\n",
       "4      1981-01-05\n",
       "5      1981-01-06\n",
       "6      1981-01-07\n",
       "7      1981-01-08\n",
       "8      1981-01-09\n",
       "9      1981-01-10\n",
       "10     1981-01-11\n",
       "11     1981-01-12\n",
       "12     1981-01-13\n",
       "13     1981-01-14\n",
       "14     1981-01-15\n",
       "15     1981-01-16\n",
       "16     1981-01-17\n",
       "17     1981-01-18\n",
       "18     1981-01-19\n",
       "19     1981-01-20\n",
       "20     1981-01-21\n",
       "21     1981-01-22\n",
       "22     1981-01-23\n",
       "23     1981-01-24\n",
       "24     1981-01-25\n",
       "25     1981-01-26\n",
       "26     1981-01-27\n",
       "27     1981-01-28\n",
       "28     1981-01-29\n",
       "29     1981-01-30\n",
       "          ...    \n",
       "3620   1990-12-02\n",
       "3621   1990-12-03\n",
       "3622   1990-12-04\n",
       "3623   1990-12-05\n",
       "3624   1990-12-06\n",
       "3625   1990-12-07\n",
       "3626   1990-12-08\n",
       "3627   1990-12-09\n",
       "3628   1990-12-10\n",
       "3629   1990-12-11\n",
       "3630   1990-12-12\n",
       "3631   1990-12-13\n",
       "3632   1990-12-14\n",
       "3633   1990-12-15\n",
       "3634   1990-12-16\n",
       "3635   1990-12-17\n",
       "3636   1990-12-18\n",
       "3637   1990-12-19\n",
       "3638   1990-12-20\n",
       "3639   1990-12-21\n",
       "3640   1990-12-22\n",
       "3641   1990-12-23\n",
       "3642   1990-12-24\n",
       "3643   1990-12-25\n",
       "3644   1990-12-26\n",
       "3645   1990-12-27\n",
       "3646   1990-12-28\n",
       "3647   1990-12-29\n",
       "3648   1990-12-30\n",
       "3649   1990-12-31\n",
       "Name: Date, Length: 3650, dtype: datetime64[ns]"
      ]
     },
     "execution_count": 11,
     "metadata": {},
     "output_type": "execute_result"
    }
   ],
   "source": [
    "dataset['Date']"
   ]
  },
  {
   "cell_type": "code",
   "execution_count": 17,
   "metadata": {},
   "outputs": [],
   "source": [
    "IndexDataset=dataset.set_index(['Date'])"
   ]
  },
  {
   "cell_type": "code",
   "execution_count": 19,
   "metadata": {},
   "outputs": [
    {
     "ename": "ModuleNotFoundError",
     "evalue": "No module named 'datatime'",
     "output_type": "error",
     "traceback": [
      "\u001b[0;31m---------------------------------------------------------------------------\u001b[0m",
      "\u001b[0;31mModuleNotFoundError\u001b[0m                       Traceback (most recent call last)",
      "\u001b[0;32m<ipython-input-19-fc4c490e656b>\u001b[0m in \u001b[0;36m<module>\u001b[0;34m\u001b[0m\n\u001b[0;32m----> 1\u001b[0;31m \u001b[0;32mfrom\u001b[0m \u001b[0mdatatime\u001b[0m \u001b[0;32mimport\u001b[0m \u001b[0mdatetime\u001b[0m\u001b[0;34m\u001b[0m\u001b[0;34m\u001b[0m\u001b[0m\n\u001b[0m",
      "\u001b[0;31mModuleNotFoundError\u001b[0m: No module named 'datatime'"
     ]
    }
   ],
   "source": [
    "from datatime import datetime"
   ]
  },
  {
   "cell_type": "code",
   "execution_count": null,
   "metadata": {},
   "outputs": [],
   "source": []
  }
 ],
 "metadata": {
  "kernelspec": {
   "display_name": "Python 3",
   "language": "python",
   "name": "python3"
  },
  "language_info": {
   "codemirror_mode": {
    "name": "ipython",
    "version": 3
   },
   "file_extension": ".py",
   "mimetype": "text/x-python",
   "name": "python",
   "nbconvert_exporter": "python",
   "pygments_lexer": "ipython3",
   "version": "3.7.3"
  }
 },
 "nbformat": 4,
 "nbformat_minor": 2
}
